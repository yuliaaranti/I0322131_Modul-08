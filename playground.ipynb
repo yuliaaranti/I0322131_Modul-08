{
 "cells": [
  {
   "attachments": {},
   "cell_type": "markdown",
   "metadata": {},
   "source": [
    "# File"
   ]
  },
  {
   "attachments": {},
   "cell_type": "markdown",
   "metadata": {},
   "source": [
    "### Objek File\n",
    "Berikut merupakan contoh program untuk memanggil file dengan mode \"r\""
   ]
  },
  {
   "cell_type": "code",
   "execution_count": 13,
   "metadata": {},
   "outputs": [],
   "source": [
    "obj_file = open(\"D:\\python\\Prokom\\I0322131_Yulia-Puspa-Nur-Ranti_Praktikum-Prokom\\I0322131_Modul-08\\Biodata.txt\",\"r\") ##Lokasi disesuiakan dengan lokasi penyimpananan file pada device praktikan"
   ]
  },
  {
   "attachments": {},
   "cell_type": "markdown",
   "metadata": {},
   "source": [
    "### readlines\n",
    "Perintah di bawah ini akan menampilkan file dengan format list"
   ]
  },
  {
   "cell_type": "code",
   "execution_count": 17,
   "metadata": {},
   "outputs": [
    {
     "name": "stdout",
     "output_type": "stream",
     "text": [
      "['Nama: Yulia\\n', 'Umur: 17\\n', 'Alamat: Karangasem']\n"
     ]
    }
   ],
   "source": [
    "# buka file\n",
    "file_biodata = open(\"D:\\python\\Prokom\\I0322131_Yulia-Puspa-Nur-Ranti_Praktikum-Prokom\\I0322131_Modul-08\\Biodata.txt\",\"r\")\n",
    "# baca isi file\n",
    "print(file_biodata.readlines())\n",
    "# tutup file\n",
    "file_biodata.close()"
   ]
  },
  {
   "attachments": {},
   "cell_type": "markdown",
   "metadata": {},
   "source": [
    "### read\n",
    "Perintah di bawah ini akan menampilkan file dengan format text"
   ]
  },
  {
   "cell_type": "code",
   "execution_count": 21,
   "metadata": {},
   "outputs": [
    {
     "name": "stdout",
     "output_type": "stream",
     "text": [
      "Nama: Regina\n",
      "Umur: 18\n",
      "Alamat: Tulungagung\n",
      "\n",
      "Nama: Lia\n",
      "Umur: 17\n",
      "Alamat: Kleco\n"
     ]
    }
   ],
   "source": [
    "# buka file\n",
    "file_biodata = open(\"D:\\python\\Prokom\\I0322131_Yulia-Puspa-Nur-Ranti_Praktikum-Prokom\\I0322131_Modul-08\\Biodata.txt\",\"r\")\n",
    "# baca isi file\n",
    "print(file_biodata.read())\n",
    "# tutup file\n",
    "file_biodata.close()"
   ]
  },
  {
   "attachments": {},
   "cell_type": "markdown",
   "metadata": {},
   "source": [
    "### write\n",
    "Perintah di bawah ini merupakah akses untuk menulis ulang dari file yang ada"
   ]
  },
  {
   "cell_type": "code",
   "execution_count": 19,
   "metadata": {},
   "outputs": [
    {
     "name": "stdout",
     "output_type": "stream",
     "text": [
      "Selamat Datang di Program Biodata\n",
      "---------------------------------\n",
      "Data anda berhasil ditulis\n"
     ]
    }
   ],
   "source": [
    "print(\"Selamat Datang di Program Biodata\")\n",
    "print(\"---------------------------------\")\n",
    "\n",
    "# Mengambil input dari user\n",
    "nama = input(\"Nama: \")\n",
    "umur = input(\"Umur: \")\n",
    "alamat = input(\"Alamat: \")\n",
    "\n",
    "# Format teks\n",
    "teks = \"Nama: {}\\nUmur: {}\\nAlamat: {}\".format(nama,umur,alamat)\n",
    "\n",
    "# Buka file untuk ditulis\n",
    "file_biodata = open(\"D:\\python\\Prokom\\I0322131_Yulia-Puspa-Nur-Ranti_Praktikum-Prokom\\I0322131_Modul-08\\Biodata.txt\",\"w\")\n",
    "\n",
    "# Tulis teks ke file\n",
    "file_biodata.write(teks)\n",
    "\n",
    "#tutup file\n",
    "file_biodata.close()\n",
    "\n",
    "print(\"Data anda berhasil ditulis\")"
   ]
  },
  {
   "attachments": {},
   "cell_type": "markdown",
   "metadata": {},
   "source": [
    "### append\n",
    "Perintah di bawah ini merupakah akses untuk menambahkan text dari file yang ada"
   ]
  },
  {
   "cell_type": "code",
   "execution_count": 20,
   "metadata": {},
   "outputs": [
    {
     "name": "stdout",
     "output_type": "stream",
     "text": [
      "Selamat Datang di Program Biodata\n",
      "---------------------------------\n",
      "Data anda berhasil ditambahkan\n"
     ]
    }
   ],
   "source": [
    "print(\"Selamat Datang di Program Biodata\")\n",
    "print(\"---------------------------------\")\n",
    "\n",
    "# Mengambil input dari user\n",
    "nama = input(\"Nama: \")\n",
    "umur = input(\"Umur: \")\n",
    "alamat = input(\"Alamat: \")\n",
    "\n",
    "# Format teks\n",
    "teks = \"\\n\\nNama: {}\\nUmur: {}\\nAlamat: {}\".format(nama,umur,alamat)\n",
    "\n",
    "# Buka file untuk ditambahkan\n",
    "file_biodata = open(\"D:\\python\\Prokom\\I0322131_Yulia-Puspa-Nur-Ranti_Praktikum-Prokom\\I0322131_Modul-08\\Biodata.txt\",\"a\")\n",
    "\n",
    "# Tulis teks ke file\n",
    "file_biodata.write(teks)\n",
    "\n",
    "#tutup file\n",
    "file_biodata.close()\n",
    "\n",
    "print(\"Data anda berhasil ditambahkan\")"
   ]
  },
  {
   "attachments": {},
   "cell_type": "markdown",
   "metadata": {},
   "source": [
    "# Direktori "
   ]
  },
  {
   "attachments": {},
   "cell_type": "markdown",
   "metadata": {},
   "source": [
    "### Membuat Direktori\n",
    "Berikut merupakan perintah untuk membuat direktori baru"
   ]
  },
  {
   "cell_type": "code",
   "execution_count": null,
   "metadata": {},
   "outputs": [],
   "source": [
    "import os\n",
    "\n",
    "def main():\n",
    "    os.mkdir(\"modul_08\")\n",
    "\n",
    "ifname:\"main\"\n",
    "main()"
   ]
  },
  {
   "attachments": {},
   "cell_type": "markdown",
   "metadata": {},
   "source": [
    "### Merubah Nama Direktori\n",
    "Berikut merupakan perintah untuk merubah nama dari direktori"
   ]
  },
  {
   "cell_type": "code",
   "execution_count": null,
   "metadata": {},
   "outputs": [],
   "source": [
    "import os\n",
    "\n",
    "def main():\n",
    "    os.rename(\"modul_08\",\"submodul_08\")\n",
    "\n",
    "ifname:\"main\"\n",
    "main()"
   ]
  },
  {
   "attachments": {},
   "cell_type": "markdown",
   "metadata": {},
   "source": [
    "### Menghapus Direktori\n",
    "Berikut merupakan perintah untuk menghapus direktori yang sudah ada"
   ]
  },
  {
   "cell_type": "code",
   "execution_count": null,
   "metadata": {},
   "outputs": [],
   "source": [
    "import os\n",
    "\n",
    "def main():\n",
    "    os.rmdir(\"submodul_08\")\n",
    "\n",
    "ifname:\"main\"\n",
    "main()"
   ]
  },
  {
   "attachments": {},
   "cell_type": "markdown",
   "metadata": {},
   "source": [
    "# Modul"
   ]
  },
  {
   "attachments": {},
   "cell_type": "markdown",
   "metadata": {},
   "source": [
    "### Perintah import"
   ]
  },
  {
   "cell_type": "code",
   "execution_count": 22,
   "metadata": {},
   "outputs": [],
   "source": [
    "import Geometri2D"
   ]
  },
  {
   "attachments": {},
   "cell_type": "markdown",
   "metadata": {},
   "source": [
    "Menggunakan Modul dengan Perintah import"
   ]
  },
  {
   "cell_type": "code",
   "execution_count": 23,
   "metadata": {},
   "outputs": [
    {
     "name": "stdout",
     "output_type": "stream",
     "text": [
      "Luas persegi panjang adalah 8\n",
      "Keliling persegi panjang adalah 12\n"
     ]
    }
   ],
   "source": [
    "# Persegi Panjang\n",
    "\n",
    "# Mendefinisikan panjang dan lebar persegi panjang\n",
    "p = 2\n",
    "l = 4\n",
    "\n",
    "# Menghitung luas dan keliling persegi panjang\n",
    "luas = Geometri2D.LuasPersegiPanjang(p,l)\n",
    "keliling = Geometri2D.KelilingPersegiPanjang(p,l)\n",
    "\n",
    "# Menampilkan hasil\n",
    "print(\"Luas persegi panjang adalah\", luas)\n",
    "print(\"Keliling persegi panjang adalah\", keliling)"
   ]
  },
  {
   "attachments": {},
   "cell_type": "markdown",
   "metadata": {},
   "source": [
    "### Perintah from ... import ..."
   ]
  },
  {
   "attachments": {},
   "cell_type": "markdown",
   "metadata": {},
   "source": [
    "Menggunakan Modul dengan Perintah from ... import ..."
   ]
  },
  {
   "cell_type": "code",
   "execution_count": 24,
   "metadata": {},
   "outputs": [
    {
     "name": "stdout",
     "output_type": "stream",
     "text": [
      "Luas persegi panjang adalah 8\n"
     ]
    }
   ],
   "source": [
    "# Luas Persegi Panjang dalam Modul Geometri2D.py\n",
    "\n",
    "from Geometri2D import LuasPersegiPanjang\n",
    "\n",
    "# Mendefinisikan panjang dan lebar persegi panjang\n",
    "p = 2\n",
    "l = 4\n",
    "\n",
    "# Menghitung luas persegi panjang\n",
    "luas = LuasPersegiPanjang(p,l)\n",
    "\n",
    "# Menampilkan hasil\n",
    "print(\"Luas persegi panjang adalah\", luas)"
   ]
  },
  {
   "attachments": {},
   "cell_type": "markdown",
   "metadata": {},
   "source": [
    "### Nama Alias Modul"
   ]
  },
  {
   "attachments": {},
   "cell_type": "markdown",
   "metadata": {},
   "source": [
    "Membuat Nama Alias"
   ]
  },
  {
   "cell_type": "code",
   "execution_count": 25,
   "metadata": {},
   "outputs": [],
   "source": [
    "import Geometri2D as DuaD"
   ]
  },
  {
   "attachments": {},
   "cell_type": "markdown",
   "metadata": {},
   "source": [
    "Menggunakan Modul dengan Nama Alias"
   ]
  },
  {
   "cell_type": "code",
   "execution_count": 26,
   "metadata": {},
   "outputs": [
    {
     "name": "stdout",
     "output_type": "stream",
     "text": [
      "Luas persegi panjang adalah 8\n",
      "Keliling persegi panjang adalah 12\n"
     ]
    }
   ],
   "source": [
    "# Persegi Panjang\n",
    "\n",
    "# Mendefinisikan panjang dan lebar persegi panjang\n",
    "p = 2\n",
    "l = 4\n",
    "\n",
    "# Menghitung luas dan keliling persegi panjang\n",
    "luas = DuaD.LuasPersegiPanjang(p,l)\n",
    "keliling = DuaD.KelilingPersegiPanjang(p,l)\n",
    "\n",
    "# Menampilkan hasil\n",
    "print(\"Luas persegi panjang adalah\", luas)\n",
    "print(\"Keliling persegi panjang adalah\", keliling)"
   ]
  },
  {
   "attachments": {},
   "cell_type": "markdown",
   "metadata": {},
   "source": [
    "## Exercise\n",
    "1. Buatlah 1 file .txt baru pada direktori yang sama dengan Biodata.txt lalu isilah file tersebut menggunakan syntax python dan gabungkan kedua file tersebut menjadi 1\n",
    "\n",
    "2. Buatlah 1 modul dengan nama Geometri3D.py baru pada direktori yang sama dengan Geometri3D.py yang berisi fungsi beberapa volume dan luas permukaan dari bangun ruang. Cobalah menggunakan modul baru yang kalian buat seperti contoh di atas!"
   ]
  }
 ],
 "metadata": {
  "kernelspec": {
   "display_name": "Python 3",
   "language": "python",
   "name": "python3"
  },
  "language_info": {
   "codemirror_mode": {
    "name": "ipython",
    "version": 3
   },
   "file_extension": ".py",
   "mimetype": "text/x-python",
   "name": "python",
   "nbconvert_exporter": "python",
   "pygments_lexer": "ipython3",
   "version": "3.10.7"
  },
  "orig_nbformat": 4
 },
 "nbformat": 4,
 "nbformat_minor": 2
}
